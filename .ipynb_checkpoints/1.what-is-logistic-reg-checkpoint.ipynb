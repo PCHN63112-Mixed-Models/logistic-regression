{
 "cells": [
  {
   "cell_type": "markdown",
   "id": "8a6b3fd6-1753-45e7-a920-fccf68cbdcac",
   "metadata": {},
   "source": [
    "# What is R?\n",
    "\n",
    "`R` is a programming language designed for ..."
   ]
  },
  {
   "cell_type": "markdown",
   "id": "92739ed9-a79e-41ea-954d-4ef59de4b797",
   "metadata": {},
   "source": [
    "## History of R"
   ]
  },
  {
   "cell_type": "markdown",
   "id": "295c7889-5d15-46b8-946b-5a32297f0ad9",
   "metadata": {},
   "source": [
    "## Why Learn R?\n",
    "\n",
    "### R Packages\n",
    "One of the most useful aspects of `R` is that anyone can expand its functionality through the use of *packages*."
   ]
  },
  {
   "cell_type": "markdown",
   "id": "d43c6ce5-83b0-430b-ac40-58e157e13a5c",
   "metadata": {},
   "source": [
    "[^foot1]: An *interpreted* programming language is one where..."
   ]
  },
  {
   "cell_type": "code",
   "execution_count": null,
   "id": "ae9a2bb3-60f5-4039-84be-41d303cd6eb6",
   "metadata": {},
   "outputs": [],
   "source": []
  }
 ],
 "metadata": {
  "kernelspec": {
   "display_name": "R",
   "language": "R",
   "name": "ir"
  },
  "language_info": {
   "codemirror_mode": "r",
   "file_extension": ".r",
   "mimetype": "text/x-r-source",
   "name": "R",
   "pygments_lexer": "r",
   "version": "4.4.2"
  }
 },
 "nbformat": 4,
 "nbformat_minor": 5
}
