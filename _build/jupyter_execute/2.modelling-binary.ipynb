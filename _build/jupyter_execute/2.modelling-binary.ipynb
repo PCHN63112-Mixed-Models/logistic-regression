{
 "cells": [
  {
   "cell_type": "markdown",
   "id": "bde1ccab-2d89-4ccf-aca6-dbea239a0625",
   "metadata": {},
   "source": [
    "# Modelling Binary Outcome Variables\n"
   ]
  },
  {
   "cell_type": "markdown",
   "id": "6d2144ea-ecc4-478d-908e-61a2d89902d7",
   "metadata": {},
   "source": [
    "## CDF Transformations"
   ]
  }
 ],
 "metadata": {
  "kernelspec": {
   "display_name": "R",
   "language": "R",
   "name": "ir"
  },
  "language_info": {
   "codemirror_mode": "r",
   "file_extension": ".r",
   "mimetype": "text/x-r-source",
   "name": "R",
   "pygments_lexer": "r",
   "version": "4.4.2"
  }
 },
 "nbformat": 4,
 "nbformat_minor": 5
}