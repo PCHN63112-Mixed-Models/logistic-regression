{
 "cells": [
  {
   "cell_type": "markdown",
   "id": "bde1ccab-2d89-4ccf-aca6-dbea239a0625",
   "metadata": {},
   "source": [
    "# Installing R and RStudio\n",
    "In this section, we will see how to install the basic `R` interface, as well as the more useful interface provided by `RStudio`. If you already have `R` and `RStudio` installed, feel free to skip this section and more on to exploring the `R` language."
   ]
  },
  {
   "cell_type": "markdown",
   "id": "6d2144ea-ecc4-478d-908e-61a2d89902d7",
   "metadata": {},
   "source": [
    "## CRAN"
   ]
  },
  {
   "cell_type": "markdown",
   "id": "0b0607c5-5899-4c36-b95d-848a57a7a204",
   "metadata": {},
   "source": [
    "## Installing R\n",
    "The first thing we need to do is install the `R` language. Select your operating system below in order to see a video guide on how to install `R`.\n",
    "\n",
    "````{tab-set}\n",
    "```{tab-item} Windows\n",
    "The video below will walk you through the process of installing `R` on Windows 11.\n",
    "```\n",
    "\n",
    "```{tab-item} macOS\n",
    "The video below will walk you through the process of installing `R` on macOS.\n",
    "```\n",
    "\n",
    "```{tab-item} Ubuntu\n",
    "The video below will walk you through the process of installing `R` on Ubuntu. Other Linux distros will be a similar process.\n",
    "```\n",
    "````"
   ]
  },
  {
   "cell_type": "markdown",
   "id": "bf36b30a-51fb-4325-82ce-427b00076d99",
   "metadata": {},
   "source": [
    "## Installing RStudio\n",
    "Although the default R interface is perfectly useable, it is very bare-bones. Because of this, alternative interfaces for `R` have been developed. The most popular, and the one we will be using primarily on this course, is [RStudio](https://posit.co/download/rstudio-desktop/).\n",
    "\n",
    "````{tab-set}\n",
    "```{tab-item} Windows\n",
    "The video below will walk you through the process of installing `RStudio` on Windows 11.\n",
    "```\n",
    "\n",
    "```{tab-item} macOS\n",
    "The video below will walk you through the process of installing `RStudio` on macOS.\n",
    "```\n",
    "\n",
    "```{tab-item} Ubuntu\n",
    "The video below will walk you through the process of installing `RStudio` on Ubuntu. Other Linux distros will be a similar process.\n",
    "```\n",
    "````\n",
    "\n",
    "`````{admonition} What is an IDE?\n",
    ":class: tip\n",
    "`RStudio` is an example of an *integrated developer environment* or IDE. ...\n",
    "`````\n",
    "\n",
    "## RStudio Interface Tour\n",
    "The video below will give you a brief tour of the `RStudio` interface, getting you familiar with all the key elements we will be using as the course progresses."
   ]
  },
  {
   "cell_type": "markdown",
   "id": "3ba020b6-cdf5-4532-ae36-ca74e985f42f",
   "metadata": {},
   "source": [
    "## Keeping R Up-to-date"
   ]
  }
 ],
 "metadata": {
  "kernelspec": {
   "display_name": "R",
   "language": "R",
   "name": "ir"
  },
  "language_info": {
   "codemirror_mode": "r",
   "file_extension": ".r",
   "mimetype": "text/x-r-source",
   "name": "R",
   "pygments_lexer": "r",
   "version": "4.4.2"
  }
 },
 "nbformat": 4,
 "nbformat_minor": 5
}